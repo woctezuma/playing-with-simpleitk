{
  "nbformat": 4,
  "nbformat_minor": 0,
  "metadata": {
    "colab": {
      "name": "playing_with_pytorch.ipynb",
      "provenance": []
    },
    "kernelspec": {
      "name": "python3",
      "display_name": "Python 3"
    },
    "accelerator": "GPU"
  },
  "cells": [
    {
      "cell_type": "markdown",
      "metadata": {
        "id": "doj9EzIVIMFv"
      },
      "source": [
        "# PyTorch"
      ]
    },
    {
      "cell_type": "markdown",
      "metadata": {
        "id": "Qz32_aKqJmIh"
      },
      "source": [
        "## Installation"
      ]
    },
    {
      "cell_type": "code",
      "metadata": {
        "id": "oWi4McPs_NuY"
      },
      "source": [
        "!pip install -qq SimpleITK"
      ],
      "execution_count": null,
      "outputs": []
    },
    {
      "cell_type": "markdown",
      "metadata": {
        "id": "3AoxeZYwF46I"
      },
      "source": [
        "## Data nomenclature"
      ]
    },
    {
      "cell_type": "markdown",
      "metadata": {
        "id": "5oFoBRkhIVVX"
      },
      "source": [
        "Patients"
      ]
    },
    {
      "cell_type": "code",
      "metadata": {
        "id": "8AJwRH-8FmaD"
      },
      "source": [
        "def get_patient_indices():\n",
        "  patient_indices = [1,2,5,6,8,10,14,16,18,19,21,22,23,24,25,26,27,28,29,30]\n",
        "\n",
        "  return patient_indices"
      ],
      "execution_count": null,
      "outputs": []
    },
    {
      "cell_type": "markdown",
      "metadata": {
        "id": "P65kljpNIRK4"
      },
      "source": [
        "Folders"
      ]
    },
    {
      "cell_type": "code",
      "metadata": {
        "id": "uiLgnz7zFY13"
      },
      "source": [
        "def get_data_folder():\n",
        "  data_folder = 'data/'\n",
        "\n",
        "  return data_folder\n",
        "\n",
        "def get_image_folder():\n",
        "  image_folder = get_data_folder() + 'imagesTr/'\n",
        "\n",
        "  return image_folder\n",
        "\n",
        "def get_ground_truth_folder():\n",
        "  ground_truth_folder = get_data_folder() + 'labelsTr/'\n",
        "\n",
        "  return ground_truth_folder"
      ],
      "execution_count": null,
      "outputs": []
    },
    {
      "cell_type": "markdown",
      "metadata": {
        "id": "NfQXankUIS88"
      },
      "source": [
        "Files"
      ]
    },
    {
      "cell_type": "code",
      "metadata": {
        "id": "jbGlq7B8biXg"
      },
      "source": [
        "def get_file_extension():\n",
        "  file_extension = '.nii.gz'\n",
        "\n",
        "  return file_extension\n",
        "\n",
        "def get_image_file_name(patient_no, modality_no=0):\n",
        "  image_modality_convention = '_{:04.0f}'.format(modality_no)\n",
        "  image_file_name = get_image_folder() + 'patientID' + str(patient_no) + image_modality_convention + get_file_extension()\n",
        "\n",
        "  return  image_file_name\n",
        "\n",
        "def get_ground_truth_file_name(patient_no):\n",
        "  ground_truth_file_name = get_ground_truth_folder() +'patientID' + str(patient_no) + get_file_extension()\n",
        "\n",
        "  return  ground_truth_file_name"
      ],
      "execution_count": null,
      "outputs": []
    },
    {
      "cell_type": "markdown",
      "metadata": {
        "id": "BMvKoAVsJPx5"
      },
      "source": [
        "## Import data"
      ]
    },
    {
      "cell_type": "code",
      "source": [
        "%cd /content\n",
        "!curl -O https://zenodo.org/records/3431873/files/CHAOS_Train_Sets.zip\n",
        "!unzip -qq CHAOS_Train_Sets.zip"
      ],
      "metadata": {
        "id": "bSD1Q_6Quslt"
      },
      "execution_count": null,
      "outputs": []
    },
    {
      "cell_type": "code",
      "source": [
        "%cd /content\n",
        "!git clone https://github.com/woctezuma/playing-with-simpleitk.git\n"
      ],
      "metadata": {
        "id": "h2Jbh5kO7Z9v"
      },
      "execution_count": null,
      "outputs": []
    },
    {
      "cell_type": "code",
      "source": [
        "%mv /content/Train_Sets /content/playing-with-simpleitk/data/"
      ],
      "metadata": {
        "id": "TQ8-7kLU7bs5"
      },
      "execution_count": null,
      "outputs": []
    },
    {
      "cell_type": "code",
      "source": [
        "%cd /content/playing-with-simpleitk\n",
        "!python convert_to_nii.py"
      ],
      "metadata": {
        "id": "qugHxbsFvCtM"
      },
      "execution_count": null,
      "outputs": []
    },
    {
      "cell_type": "code",
      "metadata": {
        "id": "HbPo9F8kB31W"
      },
      "source": [
        "%mkdir -p /content/data\n",
        "%mv /content/playing-with-simpleitk/data/output/* /content/data/"
      ],
      "execution_count": null,
      "outputs": []
    },
    {
      "cell_type": "markdown",
      "metadata": {
        "id": "-HGBrW0YIm94"
      },
      "source": [
        "## Tests"
      ]
    },
    {
      "cell_type": "code",
      "metadata": {
        "id": "7sGD_c2Iq5Da"
      },
      "source": [
        "root_folder = '/content/'"
      ],
      "execution_count": null,
      "outputs": []
    },
    {
      "cell_type": "code",
      "metadata": {
        "id": "QgbS9WFvrJQb"
      },
      "source": [
        "patient_indices = get_patient_indices()\n",
        "patient_no = patient_indices[0]"
      ],
      "execution_count": null,
      "outputs": []
    },
    {
      "cell_type": "code",
      "metadata": {
        "id": "fdlLa9Rf-luy"
      },
      "source": [
        "import numpy as np\n",
        "import SimpleITK as sitk\n",
        "\n",
        "image_name = root_folder + get_image_file_name(patient_no)\n",
        "\n",
        "image = sitk.ReadImage(image_name)\n",
        "print(image.GetSize())\n",
        "\n",
        "v = sitk.GetArrayViewFromImage(image)\n",
        "\n",
        "np.unique(v)"
      ],
      "execution_count": null,
      "outputs": []
    },
    {
      "cell_type": "code",
      "metadata": {
        "id": "5_X6uel5LMmS"
      },
      "source": [
        "import numpy as np\n",
        "import SimpleITK as sitk\n",
        "\n",
        "image_name = root_folder + get_ground_truth_file_name(patient_no)\n",
        "\n",
        "image = sitk.ReadImage(image_name)\n",
        "print(image.GetSize())\n",
        "\n",
        "v = sitk.GetArrayViewFromImage(image)\n",
        "\n",
        "np.unique(v)"
      ],
      "execution_count": null,
      "outputs": []
    },
    {
      "cell_type": "markdown",
      "metadata": {
        "id": "w4Q8PKbvSA3Q"
      },
      "source": [
        "## Down-sample images\n",
        "\n",
        "Reference: https://github.com/jonasteuwen/SimpleITK-examples/blob/master/examples/resample_isotropically.py"
      ]
    },
    {
      "cell_type": "code",
      "metadata": {
        "id": "MMlj4oQoghC7"
      },
      "source": [
        "# https://github.com/SimpleITK/SlicerSimpleFilters/blob/master/SimpleFilters/SimpleFilters.py\n",
        "_SITK_INTERPOLATOR_DICT = {\n",
        "    'nearest': sitk.sitkNearestNeighbor,\n",
        "    'linear': sitk.sitkLinear,\n",
        "    'gaussian': sitk.sitkGaussian,\n",
        "    'label_gaussian': sitk.sitkLabelGaussian,\n",
        "    'bspline': sitk.sitkBSpline,\n",
        "    'hamming_sinc': sitk.sitkHammingWindowedSinc,\n",
        "    'cosine_windowed_sinc': sitk.sitkCosineWindowedSinc,\n",
        "    'welch_windowed_sinc': sitk.sitkWelchWindowedSinc,\n",
        "    'lanczos_windowed_sinc': sitk.sitkLanczosWindowedSinc\n",
        "}"
      ],
      "execution_count": null,
      "outputs": []
    },
    {
      "cell_type": "code",
      "metadata": {
        "id": "_UfoZyepdjG9"
      },
      "source": [
        "import SimpleITK as sitk\n",
        "import os\n",
        "from glob import glob\n",
        "from tqdm import tqdm\n",
        "import numpy as np\n",
        "\n",
        "def resample_sitk_image(sitk_image, spacing=None, interpolator=None,\n",
        "                        fill_value=0):\n",
        "    \"\"\"Resamples an ITK image to a new grid. If no spacing is given,\n",
        "    the resampling is done isotropically to the smallest value in the current\n",
        "    spacing. This is usually the in-plane resolution. If not given, the\n",
        "    interpolation is derived from the input data type. Binary input\n",
        "    (e.g., masks) are resampled with nearest neighbors, otherwise linear\n",
        "    interpolation is chosen.\n",
        "    Parameters\n",
        "    ----------\n",
        "    sitk_image : SimpleITK image or str\n",
        "      Either a SimpleITK image or a path to a SimpleITK readable file.\n",
        "    spacing : tuple\n",
        "      Tuple of integers\n",
        "    interpolator : str\n",
        "      Either `nearest`, `linear` or None.\n",
        "    fill_value : int\n",
        "    Returns\n",
        "    -------\n",
        "    SimpleITK image.\n",
        "    \"\"\"\n",
        "\n",
        "    if isinstance(sitk_image, str):\n",
        "        sitk_image = sitk.ReadImage(sitk_image)\n",
        "    num_dim = sitk_image.GetDimension()\n",
        "\n",
        "    if not interpolator:\n",
        "        interpolator = 'linear'\n",
        "        pixelid = sitk_image.GetPixelIDValue()\n",
        "\n",
        "        if pixelid not in [1, 2, 4]:\n",
        "            raise NotImplementedError(\n",
        "                'Set `interpolator` manually, '\n",
        "                'can only infer for 8-bit unsigned or 16, 32-bit signed integers')\n",
        "        if pixelid == 1: #  8-bit unsigned int\n",
        "            interpolator = 'nearest'\n",
        "\n",
        "    orig_pixelid = sitk_image.GetPixelIDValue()\n",
        "    orig_origin = sitk_image.GetOrigin()\n",
        "    orig_direction = sitk_image.GetDirection()\n",
        "    orig_spacing = np.array(sitk_image.GetSpacing())\n",
        "    orig_size = np.array(sitk_image.GetSize(), dtype=np.int)\n",
        "\n",
        "    if not spacing:\n",
        "        min_spacing = orig_spacing.min()\n",
        "        new_spacing = [min_spacing]*num_dim\n",
        "    else:\n",
        "        new_spacing = [float(s) for s in spacing]\n",
        "\n",
        "    assert interpolator in _SITK_INTERPOLATOR_DICT.keys(),\\\n",
        "        '`interpolator` should be one of {}'.format(_SITK_INTERPOLATOR_DICT.keys())\n",
        "\n",
        "    sitk_interpolator = _SITK_INTERPOLATOR_DICT[interpolator]\n",
        "\n",
        "    new_size = orig_size*(orig_spacing/new_spacing)\n",
        "    new_size = np.ceil(new_size).astype(np.int) #  Image dimensions are in integers\n",
        "    new_size = [int(s) for s in new_size] #  SimpleITK expects lists, not ndarrays\n",
        "\n",
        "    resampled_sitk_image = sitk.Resample(sitk_image, new_size)\n",
        "\n",
        "    return resampled_sitk_image\n"
      ],
      "execution_count": null,
      "outputs": []
    },
    {
      "cell_type": "markdown",
      "metadata": {
        "id": "Sfa4he1uic2L"
      },
      "source": [
        "Down-sample for faster checks."
      ]
    },
    {
      "cell_type": "code",
      "metadata": {
        "id": "Aru4odNwh8_L"
      },
      "source": [
        "num_dim = 3\n",
        "new_spacing = [4]*num_dim"
      ],
      "execution_count": null,
      "outputs": []
    },
    {
      "cell_type": "code",
      "source": [
        "%cd /content"
      ],
      "metadata": {
        "id": "o_XwWI1o8Vwt"
      },
      "execution_count": null,
      "outputs": []
    },
    {
      "cell_type": "code",
      "metadata": {
        "id": "7UkmVby_hZTF"
      },
      "source": [
        "for patient_no in get_patient_indices():\n",
        "\n",
        "  file_name = get_ground_truth_file_name(patient_no)\n",
        "\n",
        "  print(file_name)\n",
        "\n",
        "  original_image = sitk.ReadImage(file_name)\n",
        "\n",
        "  # Copy information w.r.t. original spacing\n",
        "  original_intensity_image = sitk.ReadImage(get_image_file_name(patient_no))\n",
        "  original_image.CopyInformation(original_intensity_image)\n",
        "\n",
        "  resampled_image = resample_sitk_image(original_image, spacing=new_spacing)\n",
        "\n",
        "  print(original_image.GetSize())\n",
        "  print(resampled_image.GetSize())\n",
        "\n",
        "  sitk.WriteImage(resampled_image, file_name)"
      ],
      "execution_count": null,
      "outputs": []
    },
    {
      "cell_type": "code",
      "metadata": {
        "id": "Eh_I49fVTbpw"
      },
      "source": [
        "for patient_no in get_patient_indices():\n",
        "\n",
        "  file_name = get_image_file_name(patient_no)\n",
        "\n",
        "  print(file_name)\n",
        "\n",
        "  original_image = sitk.ReadImage(file_name)\n",
        "  resampled_image = resample_sitk_image(original_image,\n",
        "                                        spacing=new_spacing)\n",
        "\n",
        "  print(original_image.GetSize())\n",
        "  print(resampled_image.GetSize())\n",
        "\n",
        "  sitk.WriteImage(resampled_image, file_name)"
      ],
      "execution_count": null,
      "outputs": []
    },
    {
      "cell_type": "markdown",
      "metadata": {
        "id": "QAyCWvIuu8TE"
      },
      "source": [
        "[DONE] check label images after information was copied, to ensure orientation is correctly interpreted by ITK-SNAP."
      ]
    },
    {
      "cell_type": "markdown",
      "metadata": {
        "id": "emU2Bj_aoOsc"
      },
      "source": [
        "## Binarize label maps\n",
        "\n",
        "nnUNet wants consecutive labels: 0, 1, etc.\n",
        "\n",
        "Originally, the label map in the CHAOS challenge contains only two labels:\n",
        "- 0 (background),\n",
        "- 255 (region of interest).\n",
        "\n",
        "We can simply binarize the label map.\n"
      ]
    },
    {
      "cell_type": "code",
      "metadata": {
        "id": "HnOCG_CgoN-h"
      },
      "source": [
        "import SimpleITK as sitk\n",
        "import numpy as np\n",
        "\n",
        "for patient_no in get_patient_indices():\n",
        "  print('Patient n°{}'.format(patient_no))\n",
        "\n",
        "  input_image_name = get_ground_truth_file_name(patient_no)\n",
        "  input_image = sitk.ReadImage(input_image_name)\n",
        "  print('Image size: {}'.format(input_image.GetSize()))\n",
        "\n",
        "  v = sitk.GetArrayFromImage(input_image)\n",
        "\n",
        "  labels = np.unique(v)\n",
        "  print('Labels: {}'.format(labels))\n",
        "\n",
        "  max_val = max(labels)\n",
        "  median_val = max_val/2\n",
        "\n",
        "  print(median_val)\n",
        "\n",
        "  # Binarize\n",
        "\n",
        "  binarized_v = np.zeros(v.shape, v.dtype)\n",
        "  binarized_v[v>median_val] = 1\n",
        "\n",
        "  labels = np.unique(binarized_v)\n",
        "  print('Labels: {}'.format(labels))\n",
        "\n",
        "  output_image = sitk.GetImageFromArray(binarized_v)\n",
        "\n",
        "  # Copy meta-data\n",
        "  output_image.CopyInformation(input_image)\n",
        "\n",
        "  output_image_name = input_image_name\n",
        "  sitk.WriteImage(output_image, output_image_name)\n",
        "  print('Image size: {}'.format(output_image.GetSize()))\n",
        ""
      ],
      "execution_count": null,
      "outputs": []
    },
    {
      "cell_type": "markdown",
      "metadata": {
        "id": "J9SWg7ClGxXs"
      },
      "source": [
        "## nnUNet"
      ]
    },
    {
      "cell_type": "markdown",
      "metadata": {
        "id": "z-2_JJlaLqZD"
      },
      "source": [
        "### Installation"
      ]
    },
    {
      "cell_type": "code",
      "source": [
        "%cd /content\n",
        "!git clone https://github.com/MIC-DKFZ/nnUNet.git\n",
        "%cd nnUNet\n",
        "%pip install -e ."
      ],
      "metadata": {
        "id": "l3OXi7a40T5b"
      },
      "execution_count": null,
      "outputs": []
    },
    {
      "cell_type": "markdown",
      "metadata": {
        "id": "lOP7FXOdLP4G"
      },
      "source": [
        "### Copy data to the right folder"
      ]
    },
    {
      "cell_type": "code",
      "metadata": {
        "id": "8EHGKR_uKTNA"
      },
      "source": [
        "%mkdir -p /content/nnUNet_base/nnUNet_raw_splitted/\n",
        "%mv /content/data /content/nnUNet_base/nnUNet_raw_splitted/Dataset000_MY_DATASET"
      ],
      "execution_count": null,
      "outputs": []
    },
    {
      "cell_type": "markdown",
      "metadata": {
        "id": "9jdfq0ZASGDX"
      },
      "source": [
        "## Edit dataset.json at the root of Task00_MY_DATASET/\n",
        "\n",
        "Reference: https://github.com/MIC-DKFZ/nnUNet/blob/master/nnunet/dataset_conversion/LiverTumorSegmentationChallenge.py"
      ]
    },
    {
      "cell_type": "code",
      "metadata": {
        "id": "yrd4WM8CsFLB"
      },
      "source": [
        "output_folder = \"/content/nnUNet_base/nnUNet_raw_splitted/Dataset000_MY_DATASET/\"\n",
        "\n",
        "train_ids = [\n",
        "             'patientID{}'.format(patient_no)\n",
        "             for patient_no in get_patient_indices()\n",
        "]"
      ],
      "execution_count": null,
      "outputs": []
    },
    {
      "cell_type": "code",
      "metadata": {
        "id": "xY3xmwWBTcKE"
      },
      "source": [
        "import os\n",
        "import json\n",
        "from collections import OrderedDict\n",
        "\n",
        "json_dict = OrderedDict()\n",
        "\n",
        "json_dict['channel_names'] = {\n",
        "    \"0\": \"CT\"\n",
        "}\n",
        "\n",
        "json_dict['labels'] = {\n",
        "    \"background\": 0,\n",
        "    \"liver\": 1,\n",
        "}\n",
        "\n",
        "json_dict['numTraining'] = len(train_ids)\n",
        "json_dict['file_ending'] = \".nii.gz\"\n",
        "\n",
        "# json_dict['training'] = [{'image': \"./imagesTr/%s.nii.gz\" % i, \"label\": \"./labelsTr/%s.nii.gz\" % i} for i in train_ids]\n",
        "# json_dict['test'] = [\"./imagesTs/%s.nii.gz\" % i for i in test_ids]\n",
        "\n",
        "with open(os.path.join(output_folder, \"dataset.json\"), 'w') as f:\n",
        "    json.dump(json_dict, f, indent=4, sort_keys=True)"
      ],
      "execution_count": null,
      "outputs": []
    },
    {
      "cell_type": "markdown",
      "metadata": {
        "id": "IhKCU_jl0gIU"
      },
      "source": [
        "## How many processes (pl, pf) on Google Colab?\n",
        "\n",
        "Apparently, 2.\n"
      ]
    },
    {
      "cell_type": "code",
      "metadata": {
        "id": "Tj-lOLy26lJt"
      },
      "source": [
        "!cat /proc/cpuinfo"
      ],
      "execution_count": null,
      "outputs": []
    },
    {
      "cell_type": "markdown",
      "metadata": {
        "id": "GMPLpB3Utsum"
      },
      "source": [
        "## Run pre-processing"
      ]
    },
    {
      "cell_type": "code",
      "source": [
        "%cd /content/nnUNet/nnunetv2"
      ],
      "metadata": {
        "id": "FO53PI9-23v1"
      },
      "execution_count": null,
      "outputs": []
    },
    {
      "cell_type": "code",
      "source": [
        "%env nnUNet_raw=/content/nnUNet_base/nnUNet_raw_splitted/\n",
        "%env nnUNet_preprocessed=/content/nnUNet_preprocessed/\n",
        "%env nnUNet_results=/content/RESULTS_FOLDER/"
      ],
      "metadata": {
        "id": "0v4Ty7Vi9Uzh"
      },
      "execution_count": null,
      "outputs": []
    },
    {
      "cell_type": "code",
      "source": [
        "!nnUNetv2_plan_and_preprocess -d 0 --verify_dataset_integrity"
      ],
      "metadata": {
        "id": "JrqUAqQH3GQ8"
      },
      "execution_count": null,
      "outputs": []
    },
    {
      "cell_type": "code",
      "metadata": {
        "id": "iujaOgAUFh0Z"
      },
      "source": [
        "!ls /content/nnUNet_preprocessed/Dataset000_MY_DATASET/"
      ],
      "execution_count": null,
      "outputs": []
    },
    {
      "cell_type": "markdown",
      "metadata": {
        "id": "Qg276gkO2CVS"
      },
      "source": [
        "## Training"
      ]
    },
    {
      "cell_type": "code",
      "metadata": {
        "id": "Ns26aJUi2O1V"
      },
      "source": [
        "!python run/run_training.py -h"
      ],
      "execution_count": null,
      "outputs": []
    },
    {
      "cell_type": "code",
      "metadata": {
        "id": "WC_sIpdZ2E8I"
      },
      "source": [
        "!OMP_NUM_THREADS=1 python run/run_training.py Dataset000_MY_DATASET 3d_fullres all"
      ],
      "execution_count": null,
      "outputs": []
    },
    {
      "cell_type": "markdown",
      "metadata": {
        "id": "_UGqa6I-rLqm"
      },
      "source": [
        "## Inference"
      ]
    },
    {
      "cell_type": "code",
      "metadata": {
        "id": "cNDhwjmSsrCe"
      },
      "source": [
        "!OMP_NUM_THREADS=1 python inference/predict_from_raw_data.py -h"
      ],
      "execution_count": null,
      "outputs": []
    },
    {
      "cell_type": "code",
      "metadata": {
        "id": "NujgNKHarzLw"
      },
      "source": [
        "INPUT_FOLDER='/content/nnUNet_base/nnUNet_raw_splitted/Dataset000_MY_DATASET/imagesTr/'"
      ],
      "execution_count": null,
      "outputs": []
    },
    {
      "cell_type": "code",
      "metadata": {
        "id": "MhIc04N0r_j_"
      },
      "source": [
        "!ls $INPUT_FOLDER"
      ],
      "execution_count": null,
      "outputs": []
    },
    {
      "cell_type": "code",
      "metadata": {
        "id": "3JTssmQRsalH"
      },
      "source": [
        "OUTPUT_FOLDER='/content/data/output/'\n",
        "!mkdir -p $OUTPUT_FOLDER"
      ],
      "execution_count": null,
      "outputs": []
    },
    {
      "cell_type": "code",
      "metadata": {
        "id": "voqMzun4sMQh"
      },
      "source": [
        "!ls $OUTPUT_FOLDER"
      ],
      "execution_count": null,
      "outputs": []
    },
    {
      "cell_type": "code",
      "source": [
        "%pip install nnunetv2"
      ],
      "metadata": {
        "id": "HcvYQtXfDssP"
      },
      "execution_count": null,
      "outputs": []
    },
    {
      "cell_type": "code",
      "metadata": {
        "id": "zf9hZKqCrNph"
      },
      "source": [
        "!nnUNetv2_predict -i $INPUT_FOLDER -o $OUTPUT_FOLDER -d Dataset000_MY_DATASET -f all -c 3d_fullres"
      ],
      "execution_count": null,
      "outputs": []
    },
    {
      "cell_type": "markdown",
      "metadata": {
        "id": "GItq5R6v5S3W"
      },
      "source": [
        "## Visualize segmentation results"
      ]
    },
    {
      "cell_type": "code",
      "metadata": {
        "id": "fKPvjGVj4aFG"
      },
      "source": [
        "import numpy as np\n",
        "import SimpleITK as sitk\n",
        "\n",
        "dice_scores = []\n",
        "original_data_folder = '/content/nnUNet_base/nnUNet_raw_splitted/Dataset000_MY_DATASET/'\n",
        "downsampled_data_folder = '/content/data/'\n",
        "\n",
        "for patient_no in get_patient_indices():\n",
        "  ground_truth_name = original_data_folder + 'labelsTr/patientID' + str(patient_no) + '.nii.gz'\n",
        "  prediction_name = downsampled_data_folder + 'output/patientID' + str(patient_no) + '.nii.gz'\n",
        "\n",
        "  ground_truth = sitk.ReadImage(ground_truth_name)\n",
        "  prediction = sitk.ReadImage(prediction_name)\n",
        "\n",
        "  v = sitk.GetArrayViewFromImage(ground_truth)\n",
        "  w = sitk.GetArrayViewFromImage(prediction)\n",
        "\n",
        "  dice_score = 2 * np.sum((v*w) > 0) / (np.sum(v>0) + np.sum(w>0))\n",
        "  print('Patient n°{} ; Dice = {:.3f}'.format(patient_no,\n",
        "                                              dice_score))\n",
        "\n",
        "  dice_scores.append(dice_score)\n",
        "\n",
        "print('\\n[training and validation dataset] Average Dice score = {:.3f} (#patients={})'.format(np.mean(dice_scores),\n",
        "                                                          len(dice_scores)))\n",
        "print('NB: training was done with the first {} patients. Look for possible over-fitting!'.format(num_patients))\n",
        "\n",
        "dice_scores_for_training = dice_scores[:num_patients]\n",
        "\n",
        "print('\\n[training dataset] Average Dice score = {:.3f} (#patients={})'.format(np.mean(dice_scores_for_training),\n",
        "                                                          len(dice_scores_for_training)))\n",
        "\n",
        "dice_scores_for_validation = dice_scores[num_patients:]\n",
        "\n",
        "print('\\n[validation dataset] Average Dice score = {:.3f} (#patients={})'.format(np.mean(dice_scores_for_validation),\n",
        "                                                          len(dice_scores_for_validation)))\n"
      ],
      "execution_count": null,
      "outputs": []
    },
    {
      "cell_type": "markdown",
      "metadata": {
        "id": "mNWntxcMtOpx"
      },
      "source": [
        "[DONE] Download data and display segmentation overlayed on CT images with ITK-SNAP."
      ]
    }
  ]
}